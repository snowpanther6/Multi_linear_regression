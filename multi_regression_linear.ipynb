{
 "cells": [
  {
   "cell_type": "code",
   "execution_count": 41,
   "metadata": {},
   "outputs": [
    {
     "data": {
      "image/png": "[encoded data removed]",
      "text/plain": [
       "<Figure size 432x288 with 1 Axes>"
      ]
     },
     "metadata": {
      "needs_background": "light"
     },
     "output_type": "display_data"
    },
    {
     "name": "stdout",
     "output_type": "stream",
     "text": [
      "Coefficients:  [[ 5.58024178]\n",
      " [ 4.82783867]\n",
      " [11.6322012 ]]\n",
      "real value is [322]\n",
      "predicted value [328.32712042]\n",
      "Residual sum of squares: 337.16\n",
      "Variance score: 90.97649076329198\n",
      "[[ 1.2  2.   5.2]\n",
      " [ 2.4  4.   9.4]\n",
      " [ 3.5  6.  12.6]\n",
      " ...\n",
      " [ 2.   4.  11.3]\n",
      " [ 2.   4.  11.7]\n",
      " [ 2.   4.  10.8]]\n"
     ]
    }
   ],
   "source": [
    "import matplotlib.pyplot as plt\n",
    "import pandas as pd\n",
    "import pylab as pl\n",
    "import numpy as np\n",
    "%matplotlib inline\n",
    "df = pd.read_csv(\"Raj.csv\")\n",
    "df.head()\n",
    "cdf = df[['E','CYLINDERS','F','C']]\n",
    "msk = np.random.rand(len(df)) < 0.8\n",
    "train = cdf[msk]\n",
    "test = cdf[~msk]\n",
    "plt.scatter(train.E, train.C,  color='blue')\n",
    "plt.xlabel(\"Engine size\")\n",
    "plt.ylabel(\"Emission\")\n",
    "plt.show()\n",
    "from sklearn import linear_model\n",
    "regr = linear_model.LinearRegression()\n",
    "train_x = np.asanyarray(train[['E','CYLINDERS','F']])\n",
    "train_y = np.asanyarray(train[['C']])\n",
    "regr.fit (train_x, train_y)\n",
    "\n",
    "# The coefficients\n",
    "print ('Coefficients: ', regr.coef_.T)\n",
    "x = np.asanyarray(test[['E','CYLINDERS','F']])\n",
    "y = np.asanyarray(test[['C']])\n",
    "y_hat= regr.predict(x)\n",
    "print(\"real value is\",y[2])\n",
    "print(\"predicted value\",y_hat[2])\n",
    "print(\"Residual sum of squares: %.2f\"\n",
    "      % np.mean((y_hat - y) ** 2))\n",
    "\n",
    "# Explained variance score: 1 is perfect prediction\n",
    "print('Variance score:' , regr.score(x,y)*100)\n",
    "print(train_x)"
   ]
  },
  {
   "cell_type": "code",
   "execution_count": null,
   "metadata": {},
   "outputs": [],
   "source": []
  },
  {
   "cell_type": "code",
   "execution_count": null,
   "metadata": {},
   "outputs": [],
   "source": []
  }
 ],
 "metadata": {
  "kernelspec": {
   "display_name": "Python 3",
   "language": "python",
   "name": "python3"
  },
  "language_info": {
   "codemirror_mode": {
    "name": "ipython",
    "version": 3
   },
   "file_extension": ".py",
   "mimetype": "text/x-python",
   "name": "python",
   "nbconvert_exporter": "python",
   "pygments_lexer": "ipython3",
   "version": "3.7.1"
  }
 },
 "nbformat": 4,
 "nbformat_minor": 2
}
